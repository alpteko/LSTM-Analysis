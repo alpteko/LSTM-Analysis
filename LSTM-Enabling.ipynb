{
 "cells": [
  {
   "cell_type": "code",
   "execution_count": null,
   "metadata": {},
   "outputs": [],
   "source": [
    "import numpy as np\n",
    "import tensorflow as tf\n",
    "import matplotlib.pyplot as plt"
   ]
  },
  {
   "cell_type": "code",
   "execution_count": null,
   "metadata": {},
   "outputs": [],
   "source": [
    "batch_num = 1024\n",
    "hidden_num = 150\n",
    "step_num = 8\n",
    "elem_num = 1\n",
    "max_sequence_len = step_num\n",
    "iteration = 400000"
   ]
  },
  {
   "cell_type": "code",
   "execution_count": null,
   "metadata": {},
   "outputs": [],
   "source": [
    "tf.reset_default_graph()"
   ]
  },
  {
   "cell_type": "code",
   "execution_count": null,
   "metadata": {},
   "outputs": [],
   "source": [
    "Y = tf.placeholder(tf.float32, shape=[None,1])\n",
    "data = tf.placeholder(shape=[batch_num, max_sequence_len,elem_num],dtype=tf.float32)\n",
    "#####\n",
    "lstm_cell = tf.contrib.rnn.BasicLSTMCell(hidden_num)\n",
    "value, _ = tf.nn.dynamic_rnn(lstm_cell, data, dtype=tf.float32)\n",
    "#####\n",
    "value = tf.transpose(value, [1, 0, 2])\n",
    "last = tf.gather(value, int(value.get_shape()[0]) - 1)\n",
    "Y_p_1 = tf.layers.dense(inputs=last,units=200,activation=tf.nn.tanh)\n",
    "Y_p_2 = tf.layers.dense(inputs=Y_p_1,units=1)\n",
    "cls_loss = tf.reduce_mean(tf.nn.sigmoid_cross_entropy_with_logits(labels=Y, logits=Y_p_2))\n",
    "optimizer = tf.train.AdamOptimizer().minimize(cls_loss)\n",
    "#####\n",
    "sess = tf.Session()\n",
    "sess.run(tf.global_variables_initializer())"
   ]
  },
  {
   "cell_type": "code",
   "execution_count": null,
   "metadata": {},
   "outputs": [],
   "source": [
    "loss_array = np.zeros(iteration)\n",
    "for i in range(iteration):\n",
    "        #step_num = np.random.random_integers(6,12)\n",
    "        random_sequences = np.random.binomial(n=1,p=0.5,size=[batch_num,step_num,elem_num])\n",
    "        sums = np.sum(random_sequences, axis=1)\n",
    "        labels = np.mod(sums, 2)\n",
    "        (loss_val, _) = sess.run([cls_loss,optimizer], {data: random_sequences,Y:labels})\n",
    "        loss_array[i] = loss_val\n",
    "        if ((i+1) % 1000) is 0:\n",
    "            print('iter %d:' % (i + 1), loss_val)\n",
    "        if loss_val < 0.001:\n",
    "            loss_array = loss_array[0:i+1]\n",
    "            print('LEARNED')\n",
    "            break"
   ]
  },
  {
   "cell_type": "code",
   "execution_count": null,
   "metadata": {},
   "outputs": [],
   "source": [
    "plt.plot(loss_array)\n",
    "plt.show()"
   ]
  },
  {
   "cell_type": "code",
   "execution_count": null,
   "metadata": {},
   "outputs": [],
   "source": []
  }
 ],
 "metadata": {
  "kernelspec": {
   "display_name": "Python 3",
   "language": "python",
   "name": "python3"
  },
  "language_info": {
   "codemirror_mode": {
    "name": "ipython",
    "version": 3
   },
   "file_extension": ".py",
   "mimetype": "text/x-python",
   "name": "python",
   "nbconvert_exporter": "python",
   "pygments_lexer": "ipython3",
   "version": "3.5.2"
  }
 },
 "nbformat": 4,
 "nbformat_minor": 2
}
