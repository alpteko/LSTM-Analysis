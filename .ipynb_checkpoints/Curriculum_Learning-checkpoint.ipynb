{
 "cells": [
  {
   "cell_type": "code",
   "execution_count": 104,
   "metadata": {},
   "outputs": [],
   "source": [
    "import numpy as np\n",
    "from tensorflow.contrib.rnn import BasicLSTMCell\n",
    "import tensorflow as tf\n",
    "import matplotlib.pyplot as plt"
   ]
  },
  {
   "cell_type": "code",
   "execution_count": 105,
   "metadata": {},
   "outputs": [],
   "source": [
    "batch_num = 16\n",
    "hidden_num = 1\n",
    "elem_num = 1\n",
    "max_sequence_len = 100\n",
    "iteration = 400000"
   ]
  },
  {
   "cell_type": "code",
   "execution_count": 106,
   "metadata": {},
   "outputs": [],
   "source": [
    "tf.reset_default_graph()\n",
    "tf.set_random_seed(2016)\n",
    "np.random.seed(2016)"
   ]
  },
  {
   "cell_type": "code",
   "execution_count": 107,
   "metadata": {},
   "outputs": [],
   "source": [
    "Y = tf.placeholder(tf.float32, shape=[None,1])\n",
    "keep = tf.placeholder(tf.float32, shape=[])\n",
    "data = tf.placeholder(shape=[batch_num, max_sequence_len,elem_num],dtype=tf.float32)\n",
    "#####\n",
    "cell = BasicLSTMCell(hidden_num)\n",
    "cell = tf.contrib.rnn.DropoutWrapper(cell=cell,variational_recurrent=True,state_keep_prob=keep,input_size=1,dtype=tf.float32)\n",
    "initial_state = cell.zero_state(batch_num, dtype=tf.float32)\n",
    "value, states = tf.nn.dynamic_rnn(cell, data, dtype=tf.float32,initial_state=initial_state)\n",
    "#####\n",
    "t_value = tf.transpose(value, [1, 0, 2])\n",
    "last = tf.gather(t_value, int(t_value.get_shape()[0]) - 1)\n",
    "#Y_p_1 = tf.layers.dense(inputs=last,units=1,activation=tf.nn.tanh)\n",
    "#Y_p_2 = tf.layers.dense(inputs=Y_p_1,units=1)\n",
    "Y_p_2 = tf.layers.dense(inputs=last,units=1)\n",
    "cls_loss = tf.reduce_mean(tf.nn.sigmoid_cross_entropy_with_logits(labels=Y, logits=Y_p_2))\n",
    "#learning_rate = tf.placeholder(tf.float32, shape=[])\n",
    "learning_rate = 0.1\n",
    "optimizer = tf.train.AdamOptimizer(learning_rate=learning_rate).minimize(cls_loss)\n",
    "#####\n",
    "sess = tf.Session()\n",
    "sess.run(tf.global_variables_initializer())"
   ]
  },
  {
   "cell_type": "code",
   "execution_count": 108,
   "metadata": {
    "scrolled": true
   },
   "outputs": [
    {
     "name": "stdout",
     "output_type": "stream",
     "text": [
      "---------------------------Step num: 2\n",
      "---------------------------Step num: 3\n",
      "---------------------------Step num: 4\n",
      "---------------------------Step num: 5\n",
      "---------------------------Step num: 6\n",
      "---------------------------Step num: 7\n",
      "---------------------------Step num: 8\n",
      "---------------------------Step num: 9\n",
      "---------------------------Step num: 10\n",
      "---------------------------Step num: 11\n",
      "---------------------------Step num: 12\n",
      "---------------------------Step num: 13\n",
      "---------------------------Step num: 14\n",
      "---------------------------Step num: 15\n",
      "---------------------------Step num: 16\n",
      "---------------------------Step num: 17\n",
      "---------------------------Step num: 18\n",
      "---------------------------Step num: 19\n",
      "---------------------------Step num: 20\n",
      "---------------------------Step num: 21\n"
     ]
    }
   ],
   "source": [
    "loss_array = np.zeros(iteration)\n",
    "step_num = max_sequence_len-1\n",
    "lr = 0.1\n",
    "hardness = 80\n",
    "k_p = 0.5\n",
    "for i in range(iteration):\n",
    "        random_sequences = np.random.binomial(n=1,p=0.5,size=[batch_num,max_sequence_len,elem_num])\n",
    "        random_sequences[:,0:step_num,:] *= 0\n",
    "        sums = np.sum(random_sequences, axis=1)\n",
    "        labels = np.mod(sums, 2)\n",
    "        (loss_val, _) = sess.run([cls_loss,optimizer], {data: random_sequences,Y:labels,keep:k_p})\n",
    "        loss_array[i] = loss_val\n",
    "        if ((i+1) % 1000 ) is 0:\n",
    "            print('iter %d:' % (i + 1), loss_val)\n",
    "        if loss_val < 0.1:\n",
    "            step_num -= 1\n",
    "            print(\"---------------------------Step num:\",max_sequence_len-step_num )\n",
    "        if step_num < hardness:\n",
    "            break"
   ]
  },
  {
   "cell_type": "code",
   "execution_count": 109,
   "metadata": {},
   "outputs": [
    {
     "name": "stdout",
     "output_type": "stream",
     "text": [
      "(16, 100, 1) (16, 100, 1)\n"
     ]
    },
    {
     "data": {
      "image/png": "[encoded data removed]",
      "text/plain": [
       "<Figure size 576x576 with 1 Axes>"
      ]
     },
     "metadata": {},
     "output_type": "display_data"
    }
   ],
   "source": [
    "random_sequences = np.random.binomial(n=1,p=1,size=[batch_num,max_sequence_len,elem_num])\n",
    "t_r = np.ones(([batch_num,max_sequence_len,elem_num]))\n",
    "t_r[:,33:70,:] = 0\n",
    "st = sess.run(value, {data: t_r,keep:1})\n",
    "print(st.shape,t_r.shape)\n",
    "plt.figure(figsize=(8,8))\n",
    "plt.plot(st[0,:,:].reshape([-1,1]))\n",
    "plt.plot(t_r[0,:,:].reshape([-1,1]))\n",
    "plt.show()"
   ]
  },
  {
   "cell_type": "code",
   "execution_count": null,
   "metadata": {},
   "outputs": [],
   "source": []
  },
  {
   "cell_type": "code",
   "execution_count": null,
   "metadata": {},
   "outputs": [],
   "source": []
  }
 ],
 "metadata": {
  "kernelspec": {
   "display_name": "Python 3",
   "language": "python",
   "name": "python3"
  },
  "language_info": {
   "codemirror_mode": {
    "name": "ipython",
    "version": 3
   },
   "file_extension": ".py",
   "mimetype": "text/x-python",
   "name": "python",
   "nbconvert_exporter": "python",
   "pygments_lexer": "ipython3",
   "version": "3.5.2"
  }
 },
 "nbformat": 4,
 "nbformat_minor": 2
}
