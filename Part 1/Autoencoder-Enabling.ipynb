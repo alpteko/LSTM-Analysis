{
 "cells": [
  {
   "cell_type": "code",
   "execution_count": 7,
   "metadata": {},
   "outputs": [],
   "source": [
    "# Basic libraries\n",
    "import numpy as np\n",
    "import tensorflow as tf\n",
    "# LSTM-autoencoder\n",
    "from LSTMAE.LSTMAutoencoder import *\n",
    "import matplotlib.pyplot as plt"
   ]
  },
  {
   "cell_type": "code",
   "execution_count": 8,
   "metadata": {},
   "outputs": [],
   "source": [
    "# Constants\n",
    "batch_num = 256\n",
    "hidden_num = 100\n",
    "step_num = 8\n",
    "elem_num = 1\n",
    "iteration = 5000\n",
    "iteration2 = 300000"
   ]
  },
  {
   "cell_type": "code",
   "execution_count": 9,
   "metadata": {},
   "outputs": [],
   "source": [
    "tf.reset_default_graph()\n",
    "tf.set_random_seed(2016)\n",
    "np.random.seed(2016)\n"
   ]
  },
  {
   "cell_type": "code",
   "execution_count": 10,
   "metadata": {},
   "outputs": [],
   "source": [
    "# placeholder list\n",
    "p_input = tf.placeholder(tf.float32, shape=(batch_num, step_num, elem_num))\n",
    "p_inputs = [tf.squeeze(t, [1]) for t in tf.split(p_input, step_num, 1)]\n",
    "Y = tf.placeholder(tf.float32, shape=[None,1])\n",
    "\n",
    "cell = tf.nn.rnn_cell.LSTMCell(hidden_num, use_peepholes=True)\n",
    "ae = LSTMAutoencoder(hidden_num, p_inputs, cell=cell, decode_without_input=True)\n",
    "cls_input = ae.enc_state.h\n",
    "Y_p_1 = tf.layers.dense(inputs=cls_input,units=200,name='Alper',activation=tf.nn.tanh)\n",
    "Y_p_2 = tf.layers.dense(inputs=Y_p_1,units=1,name='Alper2')\n",
    "\n",
    "cls_loss = tf.reduce_mean(tf.nn.sigmoid_cross_entropy_with_logits(labels=Y, logits=Y_p_2))\n",
    "alper_list = [v for v in tf.trainable_variables() if 'Alper' in v.name]\n",
    "optimizer = tf.train.AdamOptimizer().minimize(cls_loss,var_list=alper_list)\n",
    "sess= tf.Session()\n",
    "sess.run(tf.global_variables_initializer())"
   ]
  },
  {
   "cell_type": "code",
   "execution_count": 11,
   "metadata": {},
   "outputs": [
    {
     "name": "stdout",
     "output_type": "stream",
     "text": [
      "iter 100: 0.20502183\n",
      "iter 200: 0.19614291\n",
      "iter 300: 0.18588945\n",
      "iter 400: 0.18582594\n",
      "iter 500: 0.17530802\n",
      "iter 600: 0.17162135\n",
      "iter 700: 0.16922295\n",
      "iter 800: 0.16456588\n",
      "iter 900: 0.15524495\n",
      "iter 1000: 0.14811824\n",
      "iter 1100: 0.13740054\n",
      "iter 1200: 0.1291344\n",
      "iter 1300: 0.12975177\n",
      "iter 1400: 0.115569726\n",
      "iter 1500: 0.103902325\n",
      "iter 1600: 0.09820415\n",
      "iter 1700: 0.09137993\n",
      "iter 1800: 0.08701105\n",
      "iter 1900: 0.07314836\n",
      "iter 2000: 0.072575465\n",
      "iter 2100: 0.06642296\n",
      "iter 2200: 0.057688203\n",
      "iter 2300: 0.05387033\n",
      "iter 2400: 0.05169112\n",
      "iter 2500: 0.04764965\n",
      "iter 2600: 0.05099482\n",
      "iter 2700: 0.039609328\n",
      "iter 2800: 0.031041302\n",
      "iter 2900: 0.0260556\n",
      "iter 3000: 0.020248348\n",
      "iter 3100: 0.0157277\n",
      "iter 3200: 0.011845491\n",
      "iter 3300: 0.010511611\n",
      "iter 3400: 0.007405313\n",
      "iter 3500: 0.0058723968\n",
      "iter 3600: 0.004830499\n",
      "iter 3700: 0.00472923\n",
      "iter 3800: 0.0034150898\n",
      "iter 3900: 0.0041961516\n",
      "iter 4000: 0.003575982\n",
      "iter 4100: 0.0036364356\n",
      "iter 4200: 0.0018872224\n",
      "iter 4300: 0.0023647076\n",
      "iter 4400: 0.0019215611\n",
      "iter 4500: 0.0027743657\n",
      "iter 4600: 0.0018023893\n",
      "iter 4700: 0.0017282484\n",
      "iter 4800: 0.0021820785\n",
      "iter 4900: 0.0011371339\n",
      "iter 5000: 0.0036634111\n"
     ]
    }
   ],
   "source": [
    "for i in range(iteration):\n",
    "    #step_num = np.random.random_integers(6,12)\n",
    "    random_sequences = np.random.binomial(n=1,p=0.5,size=[batch_num,step_num,elem_num])\n",
    "    (loss_val, _) = sess.run([ae.loss, ae.train], {p_input: random_sequences})\n",
    "    if ((i+1) % 100) is 0:\n",
    "        print('iter %d:' % (i + 1), loss_val)"
   ]
  },
  {
   "cell_type": "code",
   "execution_count": 12,
   "metadata": {},
   "outputs": [
    {
     "name": "stdout",
     "output_type": "stream",
     "text": [
      "iter 1000: 0.69866264\n",
      "iter 2000: 0.6932073\n",
      "iter 3000: 0.7030131\n",
      "iter 4000: 0.69269204\n",
      "iter 5000: 0.6931844\n",
      "iter 6000: 0.70008564\n",
      "iter 7000: 0.69199693\n",
      "iter 8000: 0.6931318\n",
      "iter 9000: 0.6929697\n",
      "iter 10000: 0.6936811\n",
      "iter 11000: 0.6926476\n",
      "iter 12000: 0.6923189\n",
      "iter 13000: 0.6902466\n",
      "iter 14000: 0.6939428\n",
      "iter 15000: 0.6925447\n",
      "iter 16000: 0.6926018\n",
      "iter 17000: 0.69463253\n",
      "iter 18000: 0.69194674\n",
      "iter 19000: 0.6942706\n",
      "iter 20000: 0.6928122\n",
      "iter 21000: 0.6930399\n",
      "iter 22000: 0.69308066\n",
      "iter 23000: 0.6955226\n",
      "iter 24000: 0.69429463\n",
      "iter 25000: 0.7013214\n",
      "iter 26000: 0.6932162\n",
      "iter 27000: 0.6932399\n",
      "iter 28000: 0.69080305\n",
      "iter 29000: 0.69071466\n",
      "iter 30000: 0.694453\n",
      "iter 31000: 0.691759\n",
      "iter 32000: 0.6838395\n",
      "iter 33000: 0.67709404\n",
      "iter 34000: 0.65618414\n",
      "iter 35000: 0.6194723\n",
      "iter 36000: 0.4915555\n",
      "iter 37000: 0.4244287\n",
      "iter 38000: 0.36441755\n",
      "iter 39000: 0.28076997\n",
      "iter 40000: 0.16628435\n",
      "iter 41000: 0.12876426\n",
      "iter 42000: 0.09051153\n",
      "iter 43000: 0.07796441\n",
      "iter 44000: 0.041928474\n",
      "iter 45000: 0.020580772\n",
      "iter 46000: 0.02679003\n",
      "iter 47000: 0.013171191\n",
      "iter 48000: 0.0061681336\n",
      "iter 49000: 0.002482725\n"
     ]
    }
   ],
   "source": [
    "loss_array = np.zeros(iteration2)\n",
    "for i in range(iteration2):\n",
    "    random_sequences = np.random.binomial(n=1,p=0.5,size=[batch_num,step_num,elem_num])\n",
    "    sums = np.sum(random_sequences, axis=1)\n",
    "    labels = np.mod(sums, 2)\n",
    "    (loss_val, _) = sess.run([cls_loss,optimizer], {p_input: random_sequences,Y:labels})\n",
    "    loss_array[i] = loss_val\n",
    "    if ((i+1) % 1000) is 0:\n",
    "        print('iter %d:' % (i + 1), loss_val)\n",
    "    if loss_val < 0.001:\n",
    "        loss_array = loss_array[0:i+1]\n",
    "        break"
   ]
  },
  {
   "cell_type": "code",
   "execution_count": 13,
   "metadata": {},
   "outputs": [
    {
     "data": {
      "image/png": "[encoded data removed]",
      "text/plain": [
       "<Figure size 432x288 with 1 Axes>"
      ]
     },
     "metadata": {},
     "output_type": "display_data"
    }
   ],
   "source": [
    "plt.plot(loss_array)\n",
    "plt.show()"
   ]
  },
  {
   "cell_type": "code",
   "execution_count": null,
   "metadata": {},
   "outputs": [],
   "source": []
  }
 ],
 "metadata": {
  "kernelspec": {
   "display_name": "Python 3",
   "language": "python",
   "name": "python3"
  },
  "language_info": {
   "codemirror_mode": {
    "name": "ipython",
    "version": 3
   },
   "file_extension": ".py",
   "mimetype": "text/x-python",
   "name": "python",
   "nbconvert_exporter": "python",
   "pygments_lexer": "ipython3",
   "version": "3.5.2"
  }
 },
 "nbformat": 4,
 "nbformat_minor": 2
}
