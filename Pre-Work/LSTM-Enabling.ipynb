{
 "cells": [
  {
   "cell_type": "code",
   "execution_count": 1,
   "metadata": {},
   "outputs": [],
   "source": [
    "import numpy as np\n",
    "import tensorflow as tf\n",
    "import matplotlib.pyplot as plt"
   ]
  },
  {
   "cell_type": "code",
   "execution_count": 2,
   "metadata": {},
   "outputs": [],
   "source": [
    "batch_num = 1024\n",
    "hidden_num = 10\n",
    "step_num = 8\n",
    "elem_num = 1\n",
    "max_sequence_len = step_num\n",
    "iteration = 400000"
   ]
  },
  {
   "cell_type": "code",
   "execution_count": 3,
   "metadata": {},
   "outputs": [],
   "source": [
    "tf.reset_default_graph()"
   ]
  },
  {
   "cell_type": "code",
   "execution_count": 4,
   "metadata": {},
   "outputs": [
    {
     "name": "stdout",
     "output_type": "stream",
     "text": [
      "WARNING:tensorflow:From /usr/local/lib/python3.5/dist-packages/tensorflow/contrib/learn/python/learn/datasets/base.py:198: retry (from tensorflow.contrib.learn.python.learn.datasets.base) is deprecated and will be removed in a future version.\n",
      "Instructions for updating:\n",
      "Use the retry module or similar alternatives.\n"
     ]
    }
   ],
   "source": [
    "Y = tf.placeholder(tf.float32, shape=[None,1])\n",
    "data = tf.placeholder(shape=[batch_num, max_sequence_len,elem_num],dtype=tf.float32)\n",
    "#####\n",
    "lstm_cell = tf.contrib.rnn.BasicLSTMCell(hidden_num)\n",
    "value, _ = tf.nn.dynamic_rnn(lstm_cell, data, dtype=tf.float32)\n",
    "#####\n",
    "value = tf.transpose(value, [1, 0, 2])\n",
    "last = tf.gather(value, int(value.get_shape()[0]) - 1)\n",
    "Y_p_1 = tf.layers.dense(inputs=last,units=200,activation=tf.nn.tanh)\n",
    "Y_p_2 = tf.layers.dense(inputs=Y_p_1,units=1)\n",
    "cls_loss = tf.reduce_mean(tf.nn.sigmoid_cross_entropy_with_logits(labels=Y, logits=Y_p_2))\n",
    "optimizer = tf.train.AdamOptimizer().minimize(cls_loss)\n",
    "#####\n",
    "sess = tf.Session()\n",
    "sess.run(tf.global_variables_initializer())"
   ]
  },
  {
   "cell_type": "code",
   "execution_count": null,
   "metadata": {},
   "outputs": [
    {
     "name": "stdout",
     "output_type": "stream",
     "text": [
      "iter 1000: 0.6933752\n",
      "iter 2000: 0.6932972\n",
      "iter 3000: 0.6933487\n",
      "iter 4000: 0.693142\n",
      "iter 5000: 0.6930137\n",
      "iter 6000: 0.6931349\n",
      "iter 7000: 0.6931496\n",
      "iter 8000: 0.693074\n",
      "iter 9000: 0.6931504\n",
      "iter 10000: 0.6931164\n",
      "iter 11000: 0.69320595\n",
      "iter 12000: 0.69303054\n",
      "iter 13000: 0.69308484\n",
      "iter 14000: 0.6930428\n",
      "iter 15000: 0.6933537\n",
      "iter 16000: 0.69312394\n",
      "iter 17000: 0.6931319\n",
      "iter 18000: 0.69326854\n",
      "iter 19000: 0.6929853\n",
      "iter 20000: 0.6929853\n",
      "iter 21000: 0.6931414\n",
      "iter 22000: 0.6931473\n",
      "iter 23000: 0.69322795\n",
      "iter 24000: 0.69321084\n",
      "iter 25000: 0.69308037\n",
      "iter 26000: 0.6932057\n",
      "iter 27000: 0.6930914\n",
      "iter 28000: 0.6932063\n",
      "iter 29000: 0.69339126\n",
      "iter 30000: 0.6931411\n",
      "iter 31000: 0.69313216\n",
      "iter 32000: 0.6931052\n",
      "iter 33000: 0.69312024\n",
      "iter 34000: 0.69317925\n",
      "iter 35000: 0.693117\n",
      "iter 36000: 0.6931522\n",
      "iter 37000: 0.6931563\n",
      "iter 38000: 0.6932865\n",
      "iter 39000: 0.6931423\n",
      "iter 40000: 0.6931462\n",
      "iter 41000: 0.69312\n",
      "iter 42000: 0.69280463\n",
      "iter 43000: 0.69317317\n",
      "iter 44000: 0.6930269\n",
      "iter 45000: 0.6931529\n",
      "iter 46000: 0.6933109\n",
      "iter 47000: 0.6931615\n",
      "iter 48000: 0.6931541\n",
      "iter 49000: 0.6931455\n"
     ]
    }
   ],
   "source": [
    "loss_array = np.zeros(iteration)\n",
    "for i in range(iteration):\n",
    "        #step_num = np.random.random_integers(6,12)\n",
    "        random_sequences = np.random.binomial(n=1,p=0.5,size=[batch_num,step_num,elem_num])\n",
    "        sums = np.sum(random_sequences, axis=1)\n",
    "        labels = np.mod(sums, 2)\n",
    "        (loss_val, _) = sess.run([cls_loss,optimizer], {data: random_sequences,Y:labels})\n",
    "        loss_array[i] = loss_val\n",
    "        if ((i+1) % 1000) is 0:\n",
    "            print('iter %d:' % (i + 1), loss_val)\n",
    "        if loss_val < 0.001:\n",
    "            loss_array = loss_array[0:i+1]\n",
    "            print('LEARNED')\n",
    "            break"
   ]
  },
  {
   "cell_type": "code",
   "execution_count": null,
   "metadata": {},
   "outputs": [],
   "source": [
    "plt.plot(loss_array)\n",
    "plt.show()"
   ]
  },
  {
   "cell_type": "code",
   "execution_count": null,
   "metadata": {},
   "outputs": [],
   "source": []
  }
 ],
 "metadata": {
  "kernelspec": {
   "display_name": "Python 3",
   "language": "python",
   "name": "python3"
  },
  "language_info": {
   "codemirror_mode": {
    "name": "ipython",
    "version": 3
   },
   "file_extension": ".py",
   "mimetype": "text/x-python",
   "name": "python",
   "nbconvert_exporter": "python",
   "pygments_lexer": "ipython3",
   "version": "3.5.2"
  }
 },
 "nbformat": 4,
 "nbformat_minor": 2
}
